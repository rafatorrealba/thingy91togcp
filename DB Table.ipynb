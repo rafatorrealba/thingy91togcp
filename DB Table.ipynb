{
 "cells": [
  {
   "cell_type": "code",
   "execution_count": null,
   "metadata": {
    "scrolled": true
   },
   "outputs": [],
   "source": [
    "import csv\n",
    "import numpy as np\n",
    "import datascience\n",
    "import google.cloud\n",
    "import firebase_admin\n",
    "from datascience import *\n",
    "from firebase_admin import credentials, firestore\n",
    "\n",
    "import matplotlib\n",
    "%matplotlib inline\n",
    "import matplotlib.pyplot as plots\n",
    "plots.style.use('fivethirtyeight')\n",
    "\n",
    "cred = credentials.Certificate(\"key.json\")\n",
    "firebase_admin.initialize_app(cred)"
   ]
  },
  {
   "cell_type": "code",
   "execution_count": null,
   "metadata": {},
   "outputs": [],
   "source": [
    "db = firestore.client()\n",
    "data = db.collection(u'thingy91').stream() \n",
    "id = []\n",
    "doc = []\n",
    "date = []\n",
    "time = []\n",
    "temp = []\n",
    "humid = []\n",
    "air_p = []\n",
    "\n",
    "for i in data:\n",
    "    id.append(i.to_dict()[\"ID\"])\n",
    "    doc.append(i.id)\n",
    "    date.append(i.to_dict()[\"DATE\"])\n",
    "    time.append(i.to_dict()[\"TIME\"])\n",
    "    temp.append(i.to_dict()[\"TEMP\"])\n",
    "    humid.append(i.to_dict()[\"HUMID\"])\n",
    "    air_p.append(i.to_dict()[\"AIR_P\"])"
   ]
  },
  {
   "cell_type": "code",
   "execution_count": null,
   "metadata": {},
   "outputs": [],
   "source": [
    "table = Table().with_columns(\n",
    "    \"ID\", id,\n",
    "    \"DOC\", doc,\n",
    "    \"DATE\", date,\n",
    "    \"TIME\", time,\n",
    "    \"TEMP\", temp,\n",
    "    \"HUMID\", humid,\n",
    "    \"AIR_P\", air_p\n",
    ").set_format(4, NumberFormatter).set_format(5, NumberFormatter).set_format(6, NumberFormatter)"
   ]
  },
  {
   "cell_type": "code",
   "execution_count": null,
   "metadata": {},
   "outputs": [],
   "source": [
    "table.sort(\"DATE\", descending=True).sort(\"TIME\", descending=True).show()"
   ]
  },
  {
   "cell_type": "code",
   "execution_count": null,
   "metadata": {},
   "outputs": [],
   "source": [
    "table.select(4).bar()"
   ]
  }
 ],
 "metadata": {
  "kernelspec": {
   "display_name": "Python 3",
   "language": "python",
   "name": "python3"
  },
  "language_info": {
   "codemirror_mode": {
    "name": "ipython",
    "version": 3
   },
   "file_extension": ".py",
   "mimetype": "text/x-python",
   "name": "python",
   "nbconvert_exporter": "python",
   "pygments_lexer": "ipython3",
   "version": "3.5.2"
  }
 },
 "nbformat": 4,
 "nbformat_minor": 4
}
